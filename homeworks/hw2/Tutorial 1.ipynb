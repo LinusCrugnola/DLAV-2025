{
 "cells": [
  {
   "cell_type": "markdown",
   "metadata": {
    "id": "ZO_hEUkY5MUB"
   },
   "source": [
    "# Introduction to Deep Learning with PyTorch\n",
    "\n",
    "In this notebook, you'll get introduced to [PyTorch](http://pytorch.org/), a framework for building and training neural networks. PyTorch in a lot of ways behaves like the arrays you love from Numpy. These Numpy arrays, after all, are just tensors. PyTorch takes these tensors and makes it simple to move them to GPUs for the faster processing needed when training neural networks. It also provides a module that automatically calculates gradients (for backpropagation!) and another module specifically for building neural networks. All together, PyTorch ends up being more coherent with Python and the Numpy/Scipy stack compared to TensorFlow and other frameworks.\n",
    "\n",
    "\n",
    "\n",
    "## Neural Networks\n",
    "\n",
    "Deep Learning is based on artificial neural networks which have been around in some form since the late 1950s. The networks are built from individual parts approximating neurons, typically called units or simply \"neurons.\" Each unit has some number of weighted inputs. These weighted inputs are summed together (a linear combination) then passed through an activation function to get the unit's output.\n",
    "\n",
    "<img src=\"https://drive.google.com/uc?id=1ckyuKqRWay-M16NDASAOPlpR9KOn74-i\" width=400px>\n",
    "\n",
    "Mathematically this looks like: \n",
    "\n",
    "$$\n",
    "\\begin{align}\n",
    "y &= f(w_1 x_1 + w_2 x_2 + b) \\\\\n",
    "y &= f\\left(\\sum_i w_i x_i \\right)\n",
    "\\end{align}\n",
    "$$\n",
    "\n",
    "With vectors this is the dot/inner product of two vectors:\n",
    "\n",
    "$$\n",
    "h = \\begin{bmatrix}\n",
    "x_1 \\, x_2 \\cdots  x_n\n",
    "\\end{bmatrix}\n",
    "\\cdot \n",
    "\\begin{bmatrix}\n",
    "           w_1 \\\\\n",
    "           w_2 \\\\\n",
    "           \\vdots \\\\\n",
    "           w_n\n",
    "\\end{bmatrix}\n",
    "$$"
   ]
  },
  {
   "cell_type": "markdown",
   "metadata": {
    "id": "BojGSowt5MUF"
   },
   "source": [
    "### Stack them up!\n",
    "\n",
    "We can assemble these unit neurons into layers and stacks, into a network of neurons. The output of one layer of neurons becomes the input for the next layer. With multiple input units and output units, we now need to express the weights as a matrix.\n",
    "\n",
    "<img src='https://drive.google.com/uc?id=1lwm1BVgIZGq4oeWTy-jTnKauOJ0Qoxrh' width=450px>\n",
    "\n",
    "We can express this mathematically with matrices again and use matrix multiplication to get linear combinations for each unit in one operation. For example, the hidden layer ($h_1$ and $h_2$ here) can be calculated \n",
    "\n",
    "$$\n",
    "\\vec{h} = [h_1 \\, h_2] = \n",
    "\\begin{bmatrix}\n",
    "x_1 \\, x_2 \\cdots \\, x_n\n",
    "\\end{bmatrix}\n",
    "\\cdot \n",
    "\\begin{bmatrix}\n",
    "           w_{11} & w_{12} \\\\\n",
    "           w_{21} &w_{22} \\\\\n",
    "           \\vdots &\\vdots \\\\\n",
    "           w_{n1} &w_{n2}\n",
    "\\end{bmatrix}\n",
    "$$\n",
    "\n",
    "The output for this small network is found by treating the hidden layer as inputs for the output unit. The network output is expressed simply\n",
    "\n",
    "$$\n",
    "y =  f_2 \\! \\left(\\, f_1 \\! \\left(\\vec{x} \\, \\mathbf{W_1}\\right) \\mathbf{W_2} \\right)\n",
    "$$"
   ]
  },
  {
   "cell_type": "markdown",
   "metadata": {
    "id": "NGhvy2z25MUG"
   },
   "source": [
    "## Tensors\n",
    "\n",
    "It turns out neural network computations are just a bunch of linear algebra operations on *tensors*, a generalization of matrices. A vector is a 1-dimensional tensor, a matrix is a 2-dimensional tensor, an array with three indices is a 3-dimensional tensor (RGB color images for example). The fundamental data structure for neural networks are tensors and PyTorch (as well as pretty much every other deep learning framework) is built around tensors.\n",
    "\n",
    "<img src=\"https://drive.google.com/uc?id=16lkUA7r4nVs8fXfv2AJ8zUY577-o4oWZ\" width=600px>\n",
    "\n",
    "With the basics covered, it's time to explore how we can use PyTorch to build a simple neural network."
   ]
  },
  {
   "cell_type": "code",
   "execution_count": 1,
   "metadata": {
    "id": "BHqCbECa5MUH"
   },
   "outputs": [],
   "source": [
    "%matplotlib inline\n",
    "%config InlineBackend.figure_format = 'retina'\n",
    "\n",
    "import numpy as np\n",
    "import torch"
   ]
  },
  {
   "cell_type": "markdown",
   "metadata": {
    "id": "6utPfyvR5MUJ"
   },
   "source": [
    "First, let's see how we work with PyTorch tensors. These are the fundamental data structures of neural networks and PyTorch, so it's imporatant to understand how these work."
   ]
  },
  {
   "cell_type": "code",
   "execution_count": 2,
   "metadata": {
    "colab": {
     "base_uri": "https://localhost:8080/"
    },
    "executionInfo": {
     "elapsed": 501,
     "status": "ok",
     "timestamp": 1646857330263,
     "user": {
      "displayName": "Saeed Saadatnejad",
      "photoUrl": "https://lh3.googleusercontent.com/a-/AOh14GgAqJtubhu0G3PplzJAC5kv4wVsgl6ly2SREwRl_g=s64",
      "userId": "14782386802635138309"
     },
     "user_tz": -60
    },
    "id": "KuPvDJpC5MUJ",
    "outputId": "86312315-b3f4-497d-fef3-1ca68d8691c1"
   },
   "outputs": [
    {
     "data": {
      "text/plain": [
       "torch.Size([3, 2])"
      ]
     },
     "execution_count": 2,
     "metadata": {},
     "output_type": "execute_result"
    }
   ],
   "source": [
    "x = torch.rand(3, 2)\n",
    "x.size()"
   ]
  },
  {
   "cell_type": "code",
   "execution_count": 3,
   "metadata": {
    "colab": {
     "base_uri": "https://localhost:8080/"
    },
    "executionInfo": {
     "elapsed": 3,
     "status": "ok",
     "timestamp": 1646857330749,
     "user": {
      "displayName": "Saeed Saadatnejad",
      "photoUrl": "https://lh3.googleusercontent.com/a-/AOh14GgAqJtubhu0G3PplzJAC5kv4wVsgl6ly2SREwRl_g=s64",
      "userId": "14782386802635138309"
     },
     "user_tz": -60
    },
    "id": "1CR3C_M05MUK",
    "outputId": "06543da4-494d-4a53-e14b-1e8b86fbfafc"
   },
   "outputs": [
    {
     "data": {
      "text/plain": [
       "tensor([[1., 1.],\n",
       "        [1., 1.],\n",
       "        [1., 1.]])"
      ]
     },
     "execution_count": 3,
     "metadata": {},
     "output_type": "execute_result"
    }
   ],
   "source": [
    "y = torch.ones(x.size())\n",
    "y"
   ]
  },
  {
   "cell_type": "code",
   "execution_count": 4,
   "metadata": {
    "colab": {
     "base_uri": "https://localhost:8080/"
    },
    "executionInfo": {
     "elapsed": 3,
     "status": "ok",
     "timestamp": 1646857331633,
     "user": {
      "displayName": "Saeed Saadatnejad",
      "photoUrl": "https://lh3.googleusercontent.com/a-/AOh14GgAqJtubhu0G3PplzJAC5kv4wVsgl6ly2SREwRl_g=s64",
      "userId": "14782386802635138309"
     },
     "user_tz": -60
    },
    "id": "zsaX7O4W5MUL",
    "outputId": "00643095-a961-4b25-cc7d-9105b5626f84"
   },
   "outputs": [
    {
     "data": {
      "text/plain": [
       "tensor([[1.9838, 1.2630],\n",
       "        [1.6081, 1.2232],\n",
       "        [1.0689, 1.6877]])"
      ]
     },
     "execution_count": 4,
     "metadata": {},
     "output_type": "execute_result"
    }
   ],
   "source": [
    "z = x + y\n",
    "z"
   ]
  },
  {
   "cell_type": "markdown",
   "metadata": {
    "id": "fcKXcFQm5MUL"
   },
   "source": [
    "In general PyTorch tensors behave similar to Numpy arrays. They are zero indexed and support slicing."
   ]
  },
  {
   "cell_type": "code",
   "execution_count": 5,
   "metadata": {
    "colab": {
     "base_uri": "https://localhost:8080/"
    },
    "executionInfo": {
     "elapsed": 3,
     "status": "ok",
     "timestamp": 1646857334560,
     "user": {
      "displayName": "Saeed Saadatnejad",
      "photoUrl": "https://lh3.googleusercontent.com/a-/AOh14GgAqJtubhu0G3PplzJAC5kv4wVsgl6ly2SREwRl_g=s64",
      "userId": "14782386802635138309"
     },
     "user_tz": -60
    },
    "id": "pjaC0CY55MUM",
    "outputId": "3db84b4e-8f24-4721-bb0b-7ffc87563986"
   },
   "outputs": [
    {
     "data": {
      "text/plain": [
       "tensor([1.9838, 1.2630])"
      ]
     },
     "execution_count": 5,
     "metadata": {},
     "output_type": "execute_result"
    }
   ],
   "source": [
    "z[0]"
   ]
  },
  {
   "cell_type": "code",
   "execution_count": 6,
   "metadata": {
    "colab": {
     "base_uri": "https://localhost:8080/"
    },
    "executionInfo": {
     "elapsed": 4,
     "status": "ok",
     "timestamp": 1646857336036,
     "user": {
      "displayName": "Saeed Saadatnejad",
      "photoUrl": "https://lh3.googleusercontent.com/a-/AOh14GgAqJtubhu0G3PplzJAC5kv4wVsgl6ly2SREwRl_g=s64",
      "userId": "14782386802635138309"
     },
     "user_tz": -60
    },
    "id": "lcUbKKlu5MUM",
    "outputId": "6fc7406e-3612-4c60-c71d-20945071b193"
   },
   "outputs": [
    {
     "data": {
      "text/plain": [
       "tensor([[1.2630],\n",
       "        [1.2232],\n",
       "        [1.6877]])"
      ]
     },
     "execution_count": 6,
     "metadata": {},
     "output_type": "execute_result"
    }
   ],
   "source": [
    "z[:, 1:]"
   ]
  },
  {
   "cell_type": "markdown",
   "metadata": {
    "id": "44iSNVm35MUN"
   },
   "source": [
    "Tensors typically have two forms of methods, one method that returns another tensor and another method that performs the operation in place. That is, the values in memory for that tensor are changed without creating a new tensor. In-place functions are always followed by an underscore, for example `z.add()` and `z.add_()`."
   ]
  },
  {
   "cell_type": "code",
   "execution_count": 7,
   "metadata": {
    "colab": {
     "base_uri": "https://localhost:8080/"
    },
    "executionInfo": {
     "elapsed": 7,
     "status": "ok",
     "timestamp": 1646857336479,
     "user": {
      "displayName": "Saeed Saadatnejad",
      "photoUrl": "https://lh3.googleusercontent.com/a-/AOh14GgAqJtubhu0G3PplzJAC5kv4wVsgl6ly2SREwRl_g=s64",
      "userId": "14782386802635138309"
     },
     "user_tz": -60
    },
    "id": "jNWXxRCv5MUN",
    "outputId": "d4ea1bb8-7425-440f-8c2e-39a7b64ec6c8"
   },
   "outputs": [
    {
     "data": {
      "text/plain": [
       "tensor([[2.9838, 2.2630],\n",
       "        [2.6081, 2.2232],\n",
       "        [2.0689, 2.6877]])"
      ]
     },
     "execution_count": 7,
     "metadata": {},
     "output_type": "execute_result"
    }
   ],
   "source": [
    "# Return a new tensor z + 1\n",
    "z.add(1)"
   ]
  },
  {
   "cell_type": "code",
   "execution_count": 8,
   "metadata": {
    "colab": {
     "base_uri": "https://localhost:8080/"
    },
    "executionInfo": {
     "elapsed": 3,
     "status": "ok",
     "timestamp": 1646857336941,
     "user": {
      "displayName": "Saeed Saadatnejad",
      "photoUrl": "https://lh3.googleusercontent.com/a-/AOh14GgAqJtubhu0G3PplzJAC5kv4wVsgl6ly2SREwRl_g=s64",
      "userId": "14782386802635138309"
     },
     "user_tz": -60
    },
    "id": "P-bsLghG5MUN",
    "outputId": "da54d963-e548-43d1-d8d2-e390614b7e13"
   },
   "outputs": [
    {
     "data": {
      "text/plain": [
       "tensor([[1.9838, 1.2630],\n",
       "        [1.6081, 1.2232],\n",
       "        [1.0689, 1.6877]])"
      ]
     },
     "execution_count": 8,
     "metadata": {},
     "output_type": "execute_result"
    }
   ],
   "source": [
    "# z tensor is unchanged\n",
    "z"
   ]
  },
  {
   "cell_type": "code",
   "execution_count": 9,
   "metadata": {
    "colab": {
     "base_uri": "https://localhost:8080/"
    },
    "executionInfo": {
     "elapsed": 31,
     "status": "ok",
     "timestamp": 1646857337345,
     "user": {
      "displayName": "Saeed Saadatnejad",
      "photoUrl": "https://lh3.googleusercontent.com/a-/AOh14GgAqJtubhu0G3PplzJAC5kv4wVsgl6ly2SREwRl_g=s64",
      "userId": "14782386802635138309"
     },
     "user_tz": -60
    },
    "id": "WKDmxRqS5MUO",
    "outputId": "c6aad984-8e9a-4e33-8210-a66fac6cc2e0"
   },
   "outputs": [
    {
     "data": {
      "text/plain": [
       "tensor([[2.9838, 2.2630],\n",
       "        [2.6081, 2.2232],\n",
       "        [2.0689, 2.6877]])"
      ]
     },
     "execution_count": 9,
     "metadata": {},
     "output_type": "execute_result"
    }
   ],
   "source": [
    "# Add 1 and update z tensor in-place\n",
    "z.add_(1)"
   ]
  },
  {
   "cell_type": "code",
   "execution_count": 10,
   "metadata": {
    "colab": {
     "base_uri": "https://localhost:8080/"
    },
    "executionInfo": {
     "elapsed": 3,
     "status": "ok",
     "timestamp": 1646857337805,
     "user": {
      "displayName": "Saeed Saadatnejad",
      "photoUrl": "https://lh3.googleusercontent.com/a-/AOh14GgAqJtubhu0G3PplzJAC5kv4wVsgl6ly2SREwRl_g=s64",
      "userId": "14782386802635138309"
     },
     "user_tz": -60
    },
    "id": "61cOJUjU5MUO",
    "outputId": "60cbfc96-fe09-43a0-faa2-afb189a6c473"
   },
   "outputs": [
    {
     "data": {
      "text/plain": [
       "tensor([[2.9838, 2.2630],\n",
       "        [2.6081, 2.2232],\n",
       "        [2.0689, 2.6877]])"
      ]
     },
     "execution_count": 10,
     "metadata": {},
     "output_type": "execute_result"
    }
   ],
   "source": [
    "# z has been updated\n",
    "z"
   ]
  },
  {
   "cell_type": "markdown",
   "metadata": {
    "id": "lzf4g1Lq5MUP"
   },
   "source": [
    "### Reshaping\n",
    "\n",
    "Reshaping tensors is a really common operation. First to get the size and shape of a tensor use `.size()`. Then, to reshape a tensor, use `.resize_()`. Notice the underscore, reshaping is an in-place operation."
   ]
  },
  {
   "cell_type": "code",
   "execution_count": 11,
   "metadata": {
    "colab": {
     "base_uri": "https://localhost:8080/"
    },
    "executionInfo": {
     "elapsed": 3,
     "status": "ok",
     "timestamp": 1646857338210,
     "user": {
      "displayName": "Saeed Saadatnejad",
      "photoUrl": "https://lh3.googleusercontent.com/a-/AOh14GgAqJtubhu0G3PplzJAC5kv4wVsgl6ly2SREwRl_g=s64",
      "userId": "14782386802635138309"
     },
     "user_tz": -60
    },
    "id": "Vh_8rTBJ5MUP",
    "outputId": "1e90e0d9-7440-467a-f50d-1beda210771d"
   },
   "outputs": [
    {
     "data": {
      "text/plain": [
       "torch.Size([3, 2])"
      ]
     },
     "execution_count": 11,
     "metadata": {},
     "output_type": "execute_result"
    }
   ],
   "source": [
    "z.size()"
   ]
  },
  {
   "cell_type": "code",
   "execution_count": 12,
   "metadata": {
    "colab": {
     "base_uri": "https://localhost:8080/"
    },
    "executionInfo": {
     "elapsed": 8,
     "status": "ok",
     "timestamp": 1646857338727,
     "user": {
      "displayName": "Saeed Saadatnejad",
      "photoUrl": "https://lh3.googleusercontent.com/a-/AOh14GgAqJtubhu0G3PplzJAC5kv4wVsgl6ly2SREwRl_g=s64",
      "userId": "14782386802635138309"
     },
     "user_tz": -60
    },
    "id": "FOMsF2UF5MUP",
    "outputId": "0e36a85c-6d43-4aa6-c2e3-c1201513790c"
   },
   "outputs": [
    {
     "data": {
      "text/plain": [
       "tensor([[2.9838, 2.2630, 2.6081],\n",
       "        [2.2232, 2.0689, 2.6877]])"
      ]
     },
     "execution_count": 12,
     "metadata": {},
     "output_type": "execute_result"
    }
   ],
   "source": [
    "z.resize_(2, 3)"
   ]
  },
  {
   "cell_type": "code",
   "execution_count": 13,
   "metadata": {
    "colab": {
     "base_uri": "https://localhost:8080/"
    },
    "executionInfo": {
     "elapsed": 8,
     "status": "ok",
     "timestamp": 1646857339161,
     "user": {
      "displayName": "Saeed Saadatnejad",
      "photoUrl": "https://lh3.googleusercontent.com/a-/AOh14GgAqJtubhu0G3PplzJAC5kv4wVsgl6ly2SREwRl_g=s64",
      "userId": "14782386802635138309"
     },
     "user_tz": -60
    },
    "id": "eq7WfMre5MUQ",
    "outputId": "7c65789a-2a80-48c9-842d-3fc714cfbf50"
   },
   "outputs": [
    {
     "data": {
      "text/plain": [
       "tensor([[2.9838, 2.2630, 2.6081],\n",
       "        [2.2232, 2.0689, 2.6877]])"
      ]
     },
     "execution_count": 13,
     "metadata": {},
     "output_type": "execute_result"
    }
   ],
   "source": [
    "z"
   ]
  },
  {
   "cell_type": "markdown",
   "metadata": {
    "id": "qgyAcxQH5MUQ"
   },
   "source": [
    "## Numpy to Torch and back\n",
    "\n",
    "Converting between Numpy arrays and Torch tensors is super simple and useful. To create a tensor from a Numpy array, use `torch.from_numpy()`. To convert a tensor to a Numpy array, use the `.numpy()` method."
   ]
  },
  {
   "cell_type": "code",
   "execution_count": 14,
   "metadata": {
    "colab": {
     "base_uri": "https://localhost:8080/"
    },
    "executionInfo": {
     "elapsed": 4,
     "status": "ok",
     "timestamp": 1646857339699,
     "user": {
      "displayName": "Saeed Saadatnejad",
      "photoUrl": "https://lh3.googleusercontent.com/a-/AOh14GgAqJtubhu0G3PplzJAC5kv4wVsgl6ly2SREwRl_g=s64",
      "userId": "14782386802635138309"
     },
     "user_tz": -60
    },
    "id": "J-K6bbn75MUQ",
    "outputId": "dfd8dedb-389e-4c0a-f6ef-f48858f7982e"
   },
   "outputs": [
    {
     "data": {
      "text/plain": [
       "array([[0.28123561, 0.27294671, 0.12148092],\n",
       "       [0.91579265, 0.64248689, 0.40930848],\n",
       "       [0.94123763, 0.01447354, 0.5025986 ],\n",
       "       [0.92423681, 0.17711675, 0.75909697]])"
      ]
     },
     "execution_count": 14,
     "metadata": {},
     "output_type": "execute_result"
    }
   ],
   "source": [
    "a = np.random.rand(4,3)\n",
    "a"
   ]
  },
  {
   "cell_type": "code",
   "execution_count": 15,
   "metadata": {
    "colab": {
     "base_uri": "https://localhost:8080/"
    },
    "executionInfo": {
     "elapsed": 7,
     "status": "ok",
     "timestamp": 1646857340189,
     "user": {
      "displayName": "Saeed Saadatnejad",
      "photoUrl": "https://lh3.googleusercontent.com/a-/AOh14GgAqJtubhu0G3PplzJAC5kv4wVsgl6ly2SREwRl_g=s64",
      "userId": "14782386802635138309"
     },
     "user_tz": -60
    },
    "id": "Qeb7gVIX5MUQ",
    "outputId": "9a89eabb-0cb4-4bd7-ae57-67f025b427fd"
   },
   "outputs": [
    {
     "data": {
      "text/plain": [
       "tensor([[0.2812, 0.2729, 0.1215],\n",
       "        [0.9158, 0.6425, 0.4093],\n",
       "        [0.9412, 0.0145, 0.5026],\n",
       "        [0.9242, 0.1771, 0.7591]], dtype=torch.float64)"
      ]
     },
     "execution_count": 15,
     "metadata": {},
     "output_type": "execute_result"
    }
   ],
   "source": [
    "b = torch.from_numpy(a)\n",
    "b"
   ]
  },
  {
   "cell_type": "code",
   "execution_count": 16,
   "metadata": {
    "colab": {
     "base_uri": "https://localhost:8080/"
    },
    "executionInfo": {
     "elapsed": 6,
     "status": "ok",
     "timestamp": 1646857340190,
     "user": {
      "displayName": "Saeed Saadatnejad",
      "photoUrl": "https://lh3.googleusercontent.com/a-/AOh14GgAqJtubhu0G3PplzJAC5kv4wVsgl6ly2SREwRl_g=s64",
      "userId": "14782386802635138309"
     },
     "user_tz": -60
    },
    "id": "KkyzH-MV5MUR",
    "outputId": "79b60222-94c8-431c-fc41-14eb909bc64a"
   },
   "outputs": [
    {
     "data": {
      "text/plain": [
       "array([[0.28123561, 0.27294671, 0.12148092],\n",
       "       [0.91579265, 0.64248689, 0.40930848],\n",
       "       [0.94123763, 0.01447354, 0.5025986 ],\n",
       "       [0.92423681, 0.17711675, 0.75909697]])"
      ]
     },
     "execution_count": 16,
     "metadata": {},
     "output_type": "execute_result"
    }
   ],
   "source": [
    "b.numpy()"
   ]
  },
  {
   "cell_type": "markdown",
   "metadata": {
    "id": "WeX6ebAq5MUR"
   },
   "source": [
    "The memory is shared between the Numpy array and Torch tensor, so if you change the values in-place of one object, the other will change as well."
   ]
  },
  {
   "cell_type": "code",
   "execution_count": 17,
   "metadata": {
    "colab": {
     "base_uri": "https://localhost:8080/"
    },
    "executionInfo": {
     "elapsed": 34,
     "status": "ok",
     "timestamp": 1646857341159,
     "user": {
      "displayName": "Saeed Saadatnejad",
      "photoUrl": "https://lh3.googleusercontent.com/a-/AOh14GgAqJtubhu0G3PplzJAC5kv4wVsgl6ly2SREwRl_g=s64",
      "userId": "14782386802635138309"
     },
     "user_tz": -60
    },
    "id": "F-YkYNoS5MUR",
    "outputId": "aa3ac574-2a3b-46f0-d8e3-7604b82c011e"
   },
   "outputs": [
    {
     "data": {
      "text/plain": [
       "tensor([[0.5625, 0.5459, 0.2430],\n",
       "        [1.8316, 1.2850, 0.8186],\n",
       "        [1.8825, 0.0289, 1.0052],\n",
       "        [1.8485, 0.3542, 1.5182]], dtype=torch.float64)"
      ]
     },
     "execution_count": 17,
     "metadata": {},
     "output_type": "execute_result"
    }
   ],
   "source": [
    "# Multiply PyTorch Tensor by 2, in place\n",
    "b.mul_(2)"
   ]
  },
  {
   "cell_type": "code",
   "execution_count": 18,
   "metadata": {
    "colab": {
     "base_uri": "https://localhost:8080/"
    },
    "executionInfo": {
     "elapsed": 5,
     "status": "ok",
     "timestamp": 1646857341720,
     "user": {
      "displayName": "Saeed Saadatnejad",
      "photoUrl": "https://lh3.googleusercontent.com/a-/AOh14GgAqJtubhu0G3PplzJAC5kv4wVsgl6ly2SREwRl_g=s64",
      "userId": "14782386802635138309"
     },
     "user_tz": -60
    },
    "id": "CXREbyYc5MUR",
    "outputId": "d8bc07bc-ddf5-489f-9212-2d86d03ac8fc"
   },
   "outputs": [
    {
     "data": {
      "text/plain": [
       "array([[0.56247123, 0.54589343, 0.24296183],\n",
       "       [1.83158531, 1.28497378, 0.81861696],\n",
       "       [1.88247525, 0.02894707, 1.00519721],\n",
       "       [1.84847362, 0.35423351, 1.51819393]])"
      ]
     },
     "execution_count": 18,
     "metadata": {},
     "output_type": "execute_result"
    }
   ],
   "source": [
    "# Numpy array matches new values from Tensor\n",
    "a"
   ]
  },
  {
   "cell_type": "markdown",
   "metadata": {
    "id": "qoQMhqTp5MUS"
   },
   "source": [
    "## Feedforward neural networks with PyTorch\n",
    "\n",
    "Next I'll show you how to use this pattern to build a neural network with PyTorch. First up, we need to get our dataset. This is provided through the `torchvision` package. The code below will download the MNIST dataset, then create training and test datasets for us."
   ]
  },
  {
   "cell_type": "code",
   "execution_count": 19,
   "metadata": {
    "id": "fydXQPdd5MUS"
   },
   "outputs": [],
   "source": [
    "import matplotlib.pyplot as plt\n",
    "from torchvision import datasets, transforms"
   ]
  },
  {
   "cell_type": "code",
   "execution_count": 20,
   "metadata": {
    "colab": {
     "base_uri": "https://localhost:8080/",
     "height": 423,
     "referenced_widgets": [
      "d2cff93b91c7409c84b53953b62deb08",
      "d781a4ccde4845578387a940fe0cfd28",
      "ce6bfcdd7c5e4b62aa017ad5d9612e7f",
      "45c0ee800a394165b1fdb753f5592a10",
      "8441bfc841064b8194667abd10ded947",
      "c3faa8729c954b6eb81b57b2390d3a16",
      "5dac501826394adea35d48761a477310",
      "50c16f26f62c4033a879fbcd7fb468aa",
      "48ab9e0a07ea45a6b250c4733619c681",
      "67f491b43b00483f962a80bc8999cec0",
      "44fdfa53f6c2426988997465d24752b1",
      "f6fd2a88617548e2a36182c9bdec8e19",
      "d2157f1501f245519a7b4ea50ea407dc",
      "5c0145c3c1dc4ec8a57d8f137511e5df",
      "333d8997c3424cc0a18ddab784b5d966",
      "b7b2eb9941c4418eb4095f66efca76b7",
      "48d157cd8121411ab282fd4e62031c19",
      "1ba56e58032c48669342b032f3afbf84",
      "ed826fccc9d9453191b928308462223b",
      "d542887aae7b49279a4d37692a556697",
      "af681724002745ba9649935d8bbb10c3",
      "5adddd404ae546c7bba7c5d647cc9939",
      "3b415e77546548fb89f878f5735d6ea2",
      "316f42870ce9432ba82111b2aed5a777",
      "035acf9a07be47ab8489f6cea2e2af94",
      "de676417986e47858ff170ac5620ccb2",
      "2b7e7ee488254530b4f7d123594cdca7",
      "4763bc36b8134fee97103a2b6bc83d84",
      "7cf85b14991742b894d04f4399950113",
      "63e604888aa04a72bfcdff497e535352",
      "f41b1f4ff4854d429961742134314bb1",
      "0a07506d84e7470babdec0485930c4ae",
      "0a61d5fa7f7b4fe99953313bae4e8a9e",
      "efcdddcef4744681955592df2f0b2938",
      "dcf8ac7ad0a7407794b3b18a66529ae9",
      "6efe65ec9b3a422890e13b42c2a14d56",
      "6ba616fc90624bc69e755b9a005b7c51",
      "94742eeaa5a44eedbdd75456c5006044",
      "37df6e0e49824b1c8b335bfb22bc86b1",
      "1385ab8301e44d22953255b59b606171",
      "4561925d25b6487badfa256994a38f08",
      "2b4042fdf8924826aae7b2f4fb1ebcce",
      "79323266718c49618be759822a468892",
      "1c6bf92138584026b6edc200d88d34ed"
     ]
    },
    "executionInfo": {
     "elapsed": 3437,
     "status": "ok",
     "timestamp": 1646857346479,
     "user": {
      "displayName": "Saeed Saadatnejad",
      "photoUrl": "https://lh3.googleusercontent.com/a-/AOh14GgAqJtubhu0G3PplzJAC5kv4wVsgl6ly2SREwRl_g=s64",
      "userId": "14782386802635138309"
     },
     "user_tz": -60
    },
    "id": "67Ru7to55MUS",
    "outputId": "c5ce8c6c-63d6-4e40-e1a2-115fa55b7425"
   },
   "outputs": [
    {
     "name": "stderr",
     "output_type": "stream",
     "text": [
      "100.0%\n",
      "100.0%\n",
      "100.0%\n",
      "100.0%\n"
     ]
    }
   ],
   "source": [
    "# Define a transform to normalize the data\n",
    "transform = transforms.Compose([transforms.ToTensor(),\n",
    "                              transforms.Normalize((0.5,), (0.5,)),\n",
    "                             ])\n",
    "# Download and load the training data\n",
    "trainset = datasets.MNIST('MNIST_data/', download=True, train=True, transform=transform)\n",
    "trainloader = torch.utils.data.DataLoader(trainset, batch_size=64, shuffle=True)\n",
    "\n",
    "# Download and load the test data\n",
    "testset = datasets.MNIST('MNIST_data/', download=True, train=False, transform=transform)\n",
    "testloader = torch.utils.data.DataLoader(testset, batch_size=64, shuffle=True)"
   ]
  },
  {
   "cell_type": "code",
   "execution_count": 22,
   "metadata": {
    "id": "qD62GbC45MUS"
   },
   "outputs": [],
   "source": [
    "dataiter = iter(trainloader)\n",
    "images, labels = next(dataiter)"
   ]
  },
  {
   "cell_type": "markdown",
   "metadata": {
    "id": "IqwjE0Na5MUS"
   },
   "source": [
    "We have the training data loaded into `trainloader` and we make that an iterator with `iter(trainloader)`. We'd use this to loop through the dataset for training, but here I'm just grabbing the first batch so we can check out the data. We can see below that `images` is just a tensor with size (64, 1, 28, 28). So, 64 images per batch, 1 color channel, and 28x28 images."
   ]
  },
  {
   "cell_type": "code",
   "execution_count": 23,
   "metadata": {
    "colab": {
     "base_uri": "https://localhost:8080/"
    },
    "executionInfo": {
     "elapsed": 7,
     "status": "ok",
     "timestamp": 1646857346480,
     "user": {
      "displayName": "Saeed Saadatnejad",
      "photoUrl": "https://lh3.googleusercontent.com/a-/AOh14GgAqJtubhu0G3PplzJAC5kv4wVsgl6ly2SREwRl_g=s64",
      "userId": "14782386802635138309"
     },
     "user_tz": -60
    },
    "id": "_qNoGAbH5MUS",
    "outputId": "b3c103f3-ae56-4a25-93a1-208a81f77d68"
   },
   "outputs": [
    {
     "data": {
      "text/plain": [
       "torch.Size([64, 1, 28, 28])"
      ]
     },
     "execution_count": 23,
     "metadata": {},
     "output_type": "execute_result"
    }
   ],
   "source": [
    "images.size()"
   ]
  },
  {
   "cell_type": "code",
   "execution_count": 29,
   "metadata": {
    "colab": {
     "base_uri": "https://localhost:8080/",
     "height": 282
    },
    "executionInfo": {
     "elapsed": 420,
     "status": "ok",
     "timestamp": 1646857348235,
     "user": {
      "displayName": "Saeed Saadatnejad",
      "photoUrl": "https://lh3.googleusercontent.com/a-/AOh14GgAqJtubhu0G3PplzJAC5kv4wVsgl6ly2SREwRl_g=s64",
      "userId": "14782386802635138309"
     },
     "user_tz": -60
    },
    "id": "vzetYWnQ5MUT",
    "outputId": "6ae7da27-b942-4d79-f10c-730735d0acf3"
   },
   "outputs": [
    {
     "data": {
      "text/plain": [
       "<matplotlib.image.AxesImage at 0x77bdcb730200>"
      ]
     },
     "execution_count": 29,
     "metadata": {},
     "output_type": "execute_result"
    },
    {
     "data": {
      "image/png": "[encoded data removed]",
      "text/plain": [
       "<Figure size 640x480 with 1 Axes>"
      ]
     },
     "metadata": {
      "image/png": {
       "height": 413,
       "width": 416
      }
     },
     "output_type": "display_data"
    }
   ],
   "source": [
    "plt.imshow(images[1].numpy().squeeze(), cmap='Greys_r')"
   ]
  },
  {
   "cell_type": "markdown",
   "metadata": {
    "id": "xP-mB10A5MUT"
   },
   "source": [
    "## Building networks with PyTorch\n",
    "\n",
    "Here I'll use PyTorch to build a simple feedfoward network to classify the MNIST images. That is, the network will receive a digit image as input and predict the digit in the image.\n",
    "\n",
    "<img src=\"https://drive.google.com/uc?id=1xQp81KWcl75YKQtnIVWwOLrdPTrn2wGD\" width=600px>\n",
    "\n",
    "To build a neural network with PyTorch, you use the `torch.nn` module. The network itself is a class inheriting from `torch.nn.Module`. You define each of the operations separately, like `nn.Linear(784, 128)` for a fully connected linear layer with 784 inputs and 128 units.\n",
    "\n",
    "The class needs to include a `forward` method that implements the forward pass through the network. In this method, you pass some input tensor `x` through each of the operations you defined earlier. The `torch.nn` module also has functional equivalents for things like ReLUs in `torch.nn.functional`. This module is usually imported as `F`. Then to use a ReLU activation on some layer (which is just a tensor), you'd do `F.relu(x)`. Below are a few different commonly used activation functions.\n",
    "\n",
    "<img src=\"https://drive.google.com/uc?id=1KbSbYz-5ocIOEyM7y2dTsWozMi_XEo8S\" width=700px>\n",
    "\n",
    "So, for this network, I'll build it with three fully connected layers, then a softmax output for predicting classes. The softmax function is similar to the sigmoid in that it squashes inputs between 0 and 1, but it's also normalized so that all the values sum to one like a proper probability distribution."
   ]
  },
  {
   "cell_type": "code",
   "execution_count": 30,
   "metadata": {
    "id": "TCXbDgs-5MUT"
   },
   "outputs": [],
   "source": [
    "from torch import nn\n",
    "from torch import optim\n",
    "import torch.nn.functional as F"
   ]
  },
  {
   "cell_type": "code",
   "execution_count": 31,
   "metadata": {
    "colab": {
     "base_uri": "https://localhost:8080/"
    },
    "executionInfo": {
     "elapsed": 444,
     "status": "ok",
     "timestamp": 1646857353484,
     "user": {
      "displayName": "Saeed Saadatnejad",
      "photoUrl": "https://lh3.googleusercontent.com/a-/AOh14GgAqJtubhu0G3PplzJAC5kv4wVsgl6ly2SREwRl_g=s64",
      "userId": "14782386802635138309"
     },
     "user_tz": -60
    },
    "id": "9rHldOpG5MUT",
    "outputId": "a3db002f-ca00-4684-f86c-d013f6d0f8e7"
   },
   "outputs": [
    {
     "data": {
      "text/plain": [
       "Network(\n",
       "  (fc1): Linear(in_features=784, out_features=128, bias=True)\n",
       "  (fc2): Linear(in_features=128, out_features=64, bias=True)\n",
       "  (fc3): Linear(in_features=64, out_features=10, bias=True)\n",
       ")"
      ]
     },
     "execution_count": 31,
     "metadata": {},
     "output_type": "execute_result"
    }
   ],
   "source": [
    "class Network(nn.Module):\n",
    "    def __init__(self):\n",
    "        super().__init__()\n",
    "        # Defining the layers, 128, 64, 10 units each\n",
    "        self.fc1 = nn.Linear(784, 128)\n",
    "        self.fc2 = nn.Linear(128, 64)\n",
    "        # Output layer, 10 units - one for each digit\n",
    "        self.fc3 = nn.Linear(64, 10)\n",
    "        \n",
    "    def forward(self, x):\n",
    "        ''' Forward pass through the network, returns the output logits '''\n",
    "        \n",
    "        x = self.fc1(x)\n",
    "        x = F.relu(x)\n",
    "        x = self.fc2(x)\n",
    "        x = F.relu(x)\n",
    "        x = self.fc3(x)\n",
    "        \n",
    "        return x\n",
    "    \n",
    "    def predict(self, x):\n",
    "        ''' This function for predicts classes by calculating the softmax '''\n",
    "        logits = self.forward(x)\n",
    "        return F.softmax(logits)\n",
    "\n",
    "net = Network()\n",
    "net"
   ]
  },
  {
   "cell_type": "markdown",
   "metadata": {
    "id": "PUsEU-W35MUT"
   },
   "source": [
    "### Initializing weights and biases\n",
    "\n",
    "The weights and such are automatically initialized for you, but it's possible to customize how they are initialized. The weights and biases are tensors attached to the layer you defined, you can get them with `net.fc1.weight` for instance."
   ]
  },
  {
   "cell_type": "code",
   "execution_count": 32,
   "metadata": {
    "colab": {
     "base_uri": "https://localhost:8080/"
    },
    "executionInfo": {
     "elapsed": 5,
     "status": "ok",
     "timestamp": 1646857354882,
     "user": {
      "displayName": "Saeed Saadatnejad",
      "photoUrl": "https://lh3.googleusercontent.com/a-/AOh14GgAqJtubhu0G3PplzJAC5kv4wVsgl6ly2SREwRl_g=s64",
      "userId": "14782386802635138309"
     },
     "user_tz": -60
    },
    "id": "CP29WRmN5MUU",
    "outputId": "30dd9152-51ba-45de-df4b-03c422f13cde"
   },
   "outputs": [
    {
     "name": "stdout",
     "output_type": "stream",
     "text": [
      "Parameter containing:\n",
      "tensor([[-0.0317, -0.0174,  0.0274,  ...,  0.0316, -0.0253,  0.0328],\n",
      "        [ 0.0122, -0.0342,  0.0326,  ..., -0.0042,  0.0314,  0.0336],\n",
      "        [-0.0021,  0.0337,  0.0066,  ...,  0.0036,  0.0091,  0.0019],\n",
      "        ...,\n",
      "        [-0.0189,  0.0278,  0.0268,  ..., -0.0106,  0.0028, -0.0206],\n",
      "        [ 0.0348,  0.0152,  0.0023,  ...,  0.0120, -0.0203, -0.0233],\n",
      "        [ 0.0166,  0.0349, -0.0332,  ...,  0.0248,  0.0137,  0.0129]],\n",
      "       requires_grad=True)\n",
      "Parameter containing:\n",
      "tensor([-0.0225,  0.0036, -0.0354, -0.0103, -0.0315, -0.0108,  0.0204, -0.0248,\n",
      "         0.0214, -0.0062, -0.0028, -0.0349, -0.0020, -0.0003,  0.0003, -0.0226,\n",
      "         0.0198,  0.0208, -0.0046,  0.0260, -0.0313, -0.0144, -0.0075,  0.0174,\n",
      "        -0.0262,  0.0322, -0.0105, -0.0169,  0.0165, -0.0289, -0.0273,  0.0063,\n",
      "        -0.0006,  0.0123,  0.0188,  0.0212, -0.0259,  0.0161, -0.0122, -0.0280,\n",
      "        -0.0055, -0.0060,  0.0342,  0.0049, -0.0125,  0.0284, -0.0123, -0.0132,\n",
      "        -0.0266, -0.0331,  0.0073, -0.0218, -0.0113,  0.0194, -0.0235,  0.0265,\n",
      "         0.0270,  0.0001, -0.0144,  0.0171, -0.0013, -0.0238, -0.0298, -0.0316,\n",
      "         0.0038, -0.0291,  0.0044, -0.0235, -0.0138, -0.0330, -0.0266, -0.0310,\n",
      "         0.0346, -0.0160,  0.0145, -0.0339,  0.0029,  0.0231, -0.0278, -0.0310,\n",
      "         0.0014,  0.0052, -0.0066, -0.0278, -0.0221,  0.0204,  0.0096, -0.0283,\n",
      "        -0.0298,  0.0080, -0.0231,  0.0109, -0.0014,  0.0244,  0.0269, -0.0112,\n",
      "         0.0256, -0.0063, -0.0318, -0.0042, -0.0016, -0.0106,  0.0169, -0.0127,\n",
      "        -0.0234,  0.0304, -0.0209,  0.0029, -0.0193,  0.0025, -0.0170,  0.0253,\n",
      "         0.0130, -0.0336, -0.0127, -0.0290, -0.0137, -0.0086,  0.0049,  0.0262,\n",
      "        -0.0105, -0.0025,  0.0131,  0.0238, -0.0307, -0.0070, -0.0087, -0.0153],\n",
      "       requires_grad=True)\n"
     ]
    }
   ],
   "source": [
    "print(net.fc1.weight)\n",
    "print(net.fc1.bias)"
   ]
  },
  {
   "cell_type": "markdown",
   "metadata": {
    "id": "o9pLjZEn5MUU"
   },
   "source": [
    "For custom initialization, we want to modify these tensors in place. Once we have the tensors, we can fill them with zeros (for biases) or random normal values."
   ]
  },
  {
   "cell_type": "code",
   "execution_count": 33,
   "metadata": {
    "colab": {
     "base_uri": "https://localhost:8080/"
    },
    "executionInfo": {
     "elapsed": 504,
     "status": "ok",
     "timestamp": 1646857358080,
     "user": {
      "displayName": "Saeed Saadatnejad",
      "photoUrl": "https://lh3.googleusercontent.com/a-/AOh14GgAqJtubhu0G3PplzJAC5kv4wVsgl6ly2SREwRl_g=s64",
      "userId": "14782386802635138309"
     },
     "user_tz": -60
    },
    "id": "BSiCCnom5MUU",
    "outputId": "20427264-9e97-4a88-f401-a50c6793fa8f",
    "scrolled": true
   },
   "outputs": [
    {
     "data": {
      "text/plain": [
       "tensor([0., 0., 0., 0., 0., 0., 0., 0., 0., 0., 0., 0., 0., 0., 0., 0., 0., 0., 0., 0., 0., 0., 0., 0.,\n",
       "        0., 0., 0., 0., 0., 0., 0., 0., 0., 0., 0., 0., 0., 0., 0., 0., 0., 0., 0., 0., 0., 0., 0., 0.,\n",
       "        0., 0., 0., 0., 0., 0., 0., 0., 0., 0., 0., 0., 0., 0., 0., 0., 0., 0., 0., 0., 0., 0., 0., 0.,\n",
       "        0., 0., 0., 0., 0., 0., 0., 0., 0., 0., 0., 0., 0., 0., 0., 0., 0., 0., 0., 0., 0., 0., 0., 0.,\n",
       "        0., 0., 0., 0., 0., 0., 0., 0., 0., 0., 0., 0., 0., 0., 0., 0., 0., 0., 0., 0., 0., 0., 0., 0.,\n",
       "        0., 0., 0., 0., 0., 0., 0., 0.])"
      ]
     },
     "execution_count": 33,
     "metadata": {},
     "output_type": "execute_result"
    }
   ],
   "source": [
    "# Set biases to all zeros\n",
    "net.fc1.bias.data.fill_(0)"
   ]
  },
  {
   "cell_type": "code",
   "execution_count": 34,
   "metadata": {
    "colab": {
     "base_uri": "https://localhost:8080/"
    },
    "executionInfo": {
     "elapsed": 3,
     "status": "ok",
     "timestamp": 1646857358464,
     "user": {
      "displayName": "Saeed Saadatnejad",
      "photoUrl": "https://lh3.googleusercontent.com/a-/AOh14GgAqJtubhu0G3PplzJAC5kv4wVsgl6ly2SREwRl_g=s64",
      "userId": "14782386802635138309"
     },
     "user_tz": -60
    },
    "id": "dXqHv_oW5MUU",
    "outputId": "0fb823e5-0957-4fcf-c83f-90513d5f90ce"
   },
   "outputs": [
    {
     "data": {
      "text/plain": [
       "tensor([[ 0.0009, -0.0044, -0.0099,  ..., -0.0114,  0.0148,  0.0100],\n",
       "        [-0.0109, -0.0103, -0.0116,  ..., -0.0132,  0.0040, -0.0097],\n",
       "        [-0.0037, -0.0071,  0.0050,  ..., -0.0116, -0.0182,  0.0047],\n",
       "        ...,\n",
       "        [ 0.0103, -0.0202,  0.0075,  ...,  0.0102, -0.0021, -0.0039],\n",
       "        [ 0.0018, -0.0180, -0.0022,  ..., -0.0118, -0.0180, -0.0022],\n",
       "        [-0.0140,  0.0057,  0.0026,  ..., -0.0095,  0.0128, -0.0186]])"
      ]
     },
     "execution_count": 34,
     "metadata": {},
     "output_type": "execute_result"
    }
   ],
   "source": [
    "# sample from random normal with standard dev = 0.01\n",
    "net.fc1.weight.data.normal_(std=0.01)"
   ]
  },
  {
   "cell_type": "markdown",
   "metadata": {
    "id": "SU13G5Th5MUU"
   },
   "source": [
    "### Forward pass\n",
    "\n",
    "Now that we have a network, let's see what happens when we pass in an image."
   ]
  },
  {
   "cell_type": "markdown",
   "metadata": {
    "id": "VrXUgK5sW6P9"
   },
   "source": [
    "For a better visualization, we define the following function"
   ]
  },
  {
   "cell_type": "code",
   "execution_count": 35,
   "metadata": {
    "executionInfo": {
     "elapsed": 418,
     "status": "ok",
     "timestamp": 1646857547335,
     "user": {
      "displayName": "Saeed Saadatnejad",
      "photoUrl": "https://lh3.googleusercontent.com/a-/AOh14GgAqJtubhu0G3PplzJAC5kv4wVsgl6ly2SREwRl_g=s64",
      "userId": "14782386802635138309"
     },
     "user_tz": -60
    },
    "id": "uYxFBxlcW7HM"
   },
   "outputs": [],
   "source": [
    "def view_classify(img, ps):\n",
    "    ''' Function for viewing an image and it's predicted classes.\n",
    "    '''\n",
    "    ps = ps.data.numpy().squeeze()\n",
    "\n",
    "    fig, (ax1, ax2) = plt.subplots(figsize=(6,7), ncols=2)\n",
    "    ax1.imshow(img.numpy().squeeze())\n",
    "    ax1.axis('off')\n",
    "    ax2.barh(np.arange(10), ps)\n",
    "    ax2.set_aspect(0.1)\n",
    "    ax2.set_yticks(np.arange(10))\n",
    "    ax2.set_yticklabels(np.arange(10).astype(int), size='large');\n",
    "    ax2.set_title('Digit Probability')\n",
    "    ax2.set_xlim(0, 1.1)"
   ]
  },
  {
   "cell_type": "code",
   "execution_count": 37,
   "metadata": {
    "colab": {
     "base_uri": "https://localhost:8080/",
     "height": 264
    },
    "executionInfo": {
     "elapsed": 431,
     "status": "ok",
     "timestamp": 1646857550778,
     "user": {
      "displayName": "Saeed Saadatnejad",
      "photoUrl": "https://lh3.googleusercontent.com/a-/AOh14GgAqJtubhu0G3PplzJAC5kv4wVsgl6ly2SREwRl_g=s64",
      "userId": "14782386802635138309"
     },
     "user_tz": -60
    },
    "id": "dWCe5fdJ5MUU",
    "outputId": "d4b18999-2073-4c13-ccfb-5c0de66665aa"
   },
   "outputs": [
    {
     "name": "stdout",
     "output_type": "stream",
     "text": [
      "torch.Size([64, 1, 28, 28]) torch.Size([64])\n"
     ]
    },
    {
     "name": "stderr",
     "output_type": "stream",
     "text": [
      "/tmp/ipykernel_15583/2455501903.py:12: UserWarning: Implicit dimension choice for softmax has been deprecated. Change the call to include dim=X as an argument.\n",
      "  ps = F.softmax(logits)\n"
     ]
    },
    {
     "data": {
      "image/png": "[encoded data removed]",
      "text/plain": [
       "<Figure size 600x700 with 2 Axes>"
      ]
     },
     "metadata": {
      "image/png": {
       "height": 272,
       "width": 484
      }
     },
     "output_type": "display_data"
    }
   ],
   "source": [
    "# Grab some data \n",
    "dataiter = iter(trainloader)\n",
    "inputs, labels = next(dataiter)\n",
    "print(inputs.size(), labels.size())\n",
    "inputs.resize_(64, 1, 784)\n",
    "\n",
    "# Forward pass through the network\n",
    "img_idx = 0\n",
    "logits = net(inputs[img_idx,:])\n",
    "\n",
    "# Predict the class from the network output\n",
    "ps = F.softmax(logits)\n",
    "\n",
    "img = images[img_idx]\n",
    "view_classify(img.resize_(1, 28, 28), ps)"
   ]
  },
  {
   "cell_type": "code",
   "execution_count": 38,
   "metadata": {
    "colab": {
     "base_uri": "https://localhost:8080/"
    },
    "executionInfo": {
     "elapsed": 372,
     "status": "ok",
     "timestamp": 1646857555351,
     "user": {
      "displayName": "Saeed Saadatnejad",
      "photoUrl": "https://lh3.googleusercontent.com/a-/AOh14GgAqJtubhu0G3PplzJAC5kv4wVsgl6ly2SREwRl_g=s64",
      "userId": "14782386802635138309"
     },
     "user_tz": -60
    },
    "id": "CdOY9F7v5MUV",
    "outputId": "f9206b07-9010-4beb-9b73-c8de585a3c71"
   },
   "outputs": [
    {
     "data": {
      "text/plain": [
       "torch.Size([64, 1, 784])"
      ]
     },
     "execution_count": 38,
     "metadata": {},
     "output_type": "execute_result"
    }
   ],
   "source": [
    "inputs.size()"
   ]
  },
  {
   "cell_type": "markdown",
   "metadata": {
    "id": "56q1vL295MUV"
   },
   "source": [
    "As you can see above, our network has basically no idea what this digit is. It's because we haven't trained it yet, all the weights are random! Next up, we'll look at training this network so it learns how to properly classify these digits."
   ]
  }
 ],
 "metadata": {
  "colab": {
   "collapsed_sections": [],
   "name": "Tutorial 1.ipynb",
   "provenance": []
  },
  "kernelspec": {
   "display_name": "Python 3",
   "language": "python",
   "name": "python3"
  },
  "language_info": {
   "codemirror_mode": {
    "name": "ipython",
    "version": 3
   },
   "file_extension": ".py",
   "mimetype": "text/x-python",
   "name": "python",
   "nbconvert_exporter": "python",
   "pygments_lexer": "ipython3",
   "version": "3.12.9"
  },
  "nteract": {
   "version": "0.12.3"
  },
  "widgets": {
   "application/vnd.jupyter.widget-state+json": {
    "035acf9a07be47ab8489f6cea2e2af94": {
     "model_module": "@jupyter-widgets/controls",
     "model_module_version": "1.5.0",
     "model_name": "HTMLModel",
     "state": {
      "_dom_classes": [],
      "_model_module": "@jupyter-widgets/controls",
      "_model_module_version": "1.5.0",
      "_model_name": "HTMLModel",
      "_view_count": null,
      "_view_module": "@jupyter-widgets/controls",
      "_view_module_version": "1.5.0",
      "_view_name": "HTMLView",
      "description": "",
      "description_tooltip": null,
      "layout": "IPY_MODEL_7cf85b14991742b894d04f4399950113",
      "placeholder": "​",
      "style": "IPY_MODEL_4763bc36b8134fee97103a2b6bc83d84",
      "value": ""
     }
    },
    "0a07506d84e7470babdec0485930c4ae": {
     "model_module": "@jupyter-widgets/controls",
     "model_module_version": "1.5.0",
     "model_name": "DescriptionStyleModel",
     "state": {
      "_model_module": "@jupyter-widgets/controls",
      "_model_module_version": "1.5.0",
      "_model_name": "DescriptionStyleModel",
      "_view_count": null,
      "_view_module": "@jupyter-widgets/base",
      "_view_module_version": "1.2.0",
      "_view_name": "StyleView",
      "description_width": ""
     }
    },
    "0a61d5fa7f7b4fe99953313bae4e8a9e": {
     "model_module": "@jupyter-widgets/base",
     "model_module_version": "1.2.0",
     "model_name": "LayoutModel",
     "state": {
      "_model_module": "@jupyter-widgets/base",
      "_model_module_version": "1.2.0",
      "_model_name": "LayoutModel",
      "_view_count": null,
      "_view_module": "@jupyter-widgets/base",
      "_view_module_version": "1.2.0",
      "_view_name": "LayoutView",
      "align_content": null,
      "align_items": null,
      "align_self": null,
      "border": null,
      "bottom": null,
      "display": null,
      "flex": null,
      "flex_flow": null,
      "grid_area": null,
      "grid_auto_columns": null,
      "grid_auto_flow": null,
      "grid_auto_rows": null,
      "grid_column": null,
      "grid_gap": null,
      "grid_row": null,
      "grid_template_areas": null,
      "grid_template_columns": null,
      "grid_template_rows": null,
      "height": null,
      "justify_content": null,
      "justify_items": null,
      "left": null,
      "margin": null,
      "max_height": null,
      "max_width": null,
      "min_height": null,
      "min_width": null,
      "object_fit": null,
      "object_position": null,
      "order": null,
      "overflow": null,
      "overflow_x": null,
      "overflow_y": null,
      "padding": null,
      "right": null,
      "top": null,
      "visibility": null,
      "width": null
     }
    },
    "1385ab8301e44d22953255b59b606171": {
     "model_module": "@jupyter-widgets/base",
     "model_module_version": "1.2.0",
     "model_name": "LayoutModel",
     "state": {
      "_model_module": "@jupyter-widgets/base",
      "_model_module_version": "1.2.0",
      "_model_name": "LayoutModel",
      "_view_count": null,
      "_view_module": "@jupyter-widgets/base",
      "_view_module_version": "1.2.0",
      "_view_name": "LayoutView",
      "align_content": null,
      "align_items": null,
      "align_self": null,
      "border": null,
      "bottom": null,
      "display": null,
      "flex": null,
      "flex_flow": null,
      "grid_area": null,
      "grid_auto_columns": null,
      "grid_auto_flow": null,
      "grid_auto_rows": null,
      "grid_column": null,
      "grid_gap": null,
      "grid_row": null,
      "grid_template_areas": null,
      "grid_template_columns": null,
      "grid_template_rows": null,
      "height": null,
      "justify_content": null,
      "justify_items": null,
      "left": null,
      "margin": null,
      "max_height": null,
      "max_width": null,
      "min_height": null,
      "min_width": null,
      "object_fit": null,
      "object_position": null,
      "order": null,
      "overflow": null,
      "overflow_x": null,
      "overflow_y": null,
      "padding": null,
      "right": null,
      "top": null,
      "visibility": null,
      "width": null
     }
    },
    "1ba56e58032c48669342b032f3afbf84": {
     "model_module": "@jupyter-widgets/base",
     "model_module_version": "1.2.0",
     "model_name": "LayoutModel",
     "state": {
      "_model_module": "@jupyter-widgets/base",
      "_model_module_version": "1.2.0",
      "_model_name": "LayoutModel",
      "_view_count": null,
      "_view_module": "@jupyter-widgets/base",
      "_view_module_version": "1.2.0",
      "_view_name": "LayoutView",
      "align_content": null,
      "align_items": null,
      "align_self": null,
      "border": null,
      "bottom": null,
      "display": null,
      "flex": null,
      "flex_flow": null,
      "grid_area": null,
      "grid_auto_columns": null,
      "grid_auto_flow": null,
      "grid_auto_rows": null,
      "grid_column": null,
      "grid_gap": null,
      "grid_row": null,
      "grid_template_areas": null,
      "grid_template_columns": null,
      "grid_template_rows": null,
      "height": null,
      "justify_content": null,
      "justify_items": null,
      "left": null,
      "margin": null,
      "max_height": null,
      "max_width": null,
      "min_height": null,
      "min_width": null,
      "object_fit": null,
      "object_position": null,
      "order": null,
      "overflow": null,
      "overflow_x": null,
      "overflow_y": null,
      "padding": null,
      "right": null,
      "top": null,
      "visibility": null,
      "width": null
     }
    },
    "1c6bf92138584026b6edc200d88d34ed": {
     "model_module": "@jupyter-widgets/base",
     "model_module_version": "1.2.0",
     "model_name": "LayoutModel",
     "state": {
      "_model_module": "@jupyter-widgets/base",
      "_model_module_version": "1.2.0",
      "_model_name": "LayoutModel",
      "_view_count": null,
      "_view_module": "@jupyter-widgets/base",
      "_view_module_version": "1.2.0",
      "_view_name": "LayoutView",
      "align_content": null,
      "align_items": null,
      "align_self": null,
      "border": null,
      "bottom": null,
      "display": null,
      "flex": null,
      "flex_flow": null,
      "grid_area": null,
      "grid_auto_columns": null,
      "grid_auto_flow": null,
      "grid_auto_rows": null,
      "grid_column": null,
      "grid_gap": null,
      "grid_row": null,
      "grid_template_areas": null,
      "grid_template_columns": null,
      "grid_template_rows": null,
      "height": null,
      "justify_content": null,
      "justify_items": null,
      "left": null,
      "margin": null,
      "max_height": null,
      "max_width": null,
      "min_height": null,
      "min_width": null,
      "object_fit": null,
      "object_position": null,
      "order": null,
      "overflow": null,
      "overflow_x": null,
      "overflow_y": null,
      "padding": null,
      "right": null,
      "top": null,
      "visibility": null,
      "width": null
     }
    },
    "2b4042fdf8924826aae7b2f4fb1ebcce": {
     "model_module": "@jupyter-widgets/base",
     "model_module_version": "1.2.0",
     "model_name": "LayoutModel",
     "state": {
      "_model_module": "@jupyter-widgets/base",
      "_model_module_version": "1.2.0",
      "_model_name": "LayoutModel",
      "_view_count": null,
      "_view_module": "@jupyter-widgets/base",
      "_view_module_version": "1.2.0",
      "_view_name": "LayoutView",
      "align_content": null,
      "align_items": null,
      "align_self": null,
      "border": null,
      "bottom": null,
      "display": null,
      "flex": null,
      "flex_flow": null,
      "grid_area": null,
      "grid_auto_columns": null,
      "grid_auto_flow": null,
      "grid_auto_rows": null,
      "grid_column": null,
      "grid_gap": null,
      "grid_row": null,
      "grid_template_areas": null,
      "grid_template_columns": null,
      "grid_template_rows": null,
      "height": null,
      "justify_content": null,
      "justify_items": null,
      "left": null,
      "margin": null,
      "max_height": null,
      "max_width": null,
      "min_height": null,
      "min_width": null,
      "object_fit": null,
      "object_position": null,
      "order": null,
      "overflow": null,
      "overflow_x": null,
      "overflow_y": null,
      "padding": null,
      "right": null,
      "top": null,
      "visibility": null,
      "width": null
     }
    },
    "2b7e7ee488254530b4f7d123594cdca7": {
     "model_module": "@jupyter-widgets/controls",
     "model_module_version": "1.5.0",
     "model_name": "HTMLModel",
     "state": {
      "_dom_classes": [],
      "_model_module": "@jupyter-widgets/controls",
      "_model_module_version": "1.5.0",
      "_model_name": "HTMLModel",
      "_view_count": null,
      "_view_module": "@jupyter-widgets/controls",
      "_view_module_version": "1.5.0",
      "_view_name": "HTMLView",
      "description": "",
      "description_tooltip": null,
      "layout": "IPY_MODEL_0a61d5fa7f7b4fe99953313bae4e8a9e",
      "placeholder": "​",
      "style": "IPY_MODEL_0a07506d84e7470babdec0485930c4ae",
      "value": " 1649664/? [00:00&lt;00:00, 4279528.23it/s]"
     }
    },
    "316f42870ce9432ba82111b2aed5a777": {
     "model_module": "@jupyter-widgets/base",
     "model_module_version": "1.2.0",
     "model_name": "LayoutModel",
     "state": {
      "_model_module": "@jupyter-widgets/base",
      "_model_module_version": "1.2.0",
      "_model_name": "LayoutModel",
      "_view_count": null,
      "_view_module": "@jupyter-widgets/base",
      "_view_module_version": "1.2.0",
      "_view_name": "LayoutView",
      "align_content": null,
      "align_items": null,
      "align_self": null,
      "border": null,
      "bottom": null,
      "display": null,
      "flex": null,
      "flex_flow": null,
      "grid_area": null,
      "grid_auto_columns": null,
      "grid_auto_flow": null,
      "grid_auto_rows": null,
      "grid_column": null,
      "grid_gap": null,
      "grid_row": null,
      "grid_template_areas": null,
      "grid_template_columns": null,
      "grid_template_rows": null,
      "height": null,
      "justify_content": null,
      "justify_items": null,
      "left": null,
      "margin": null,
      "max_height": null,
      "max_width": null,
      "min_height": null,
      "min_width": null,
      "object_fit": null,
      "object_position": null,
      "order": null,
      "overflow": null,
      "overflow_x": null,
      "overflow_y": null,
      "padding": null,
      "right": null,
      "top": null,
      "visibility": null,
      "width": null
     }
    },
    "333d8997c3424cc0a18ddab784b5d966": {
     "model_module": "@jupyter-widgets/controls",
     "model_module_version": "1.5.0",
     "model_name": "FloatProgressModel",
     "state": {
      "_dom_classes": [],
      "_model_module": "@jupyter-widgets/controls",
      "_model_module_version": "1.5.0",
      "_model_name": "FloatProgressModel",
      "_view_count": null,
      "_view_module": "@jupyter-widgets/controls",
      "_view_module_version": "1.5.0",
      "_view_name": "ProgressView",
      "bar_style": "success",
      "description": "",
      "description_tooltip": null,
      "layout": "IPY_MODEL_d542887aae7b49279a4d37692a556697",
      "max": 28881,
      "min": 0,
      "orientation": "horizontal",
      "style": "IPY_MODEL_ed826fccc9d9453191b928308462223b",
      "value": 28881
     }
    },
    "37df6e0e49824b1c8b335bfb22bc86b1": {
     "model_module": "@jupyter-widgets/controls",
     "model_module_version": "1.5.0",
     "model_name": "DescriptionStyleModel",
     "state": {
      "_model_module": "@jupyter-widgets/controls",
      "_model_module_version": "1.5.0",
      "_model_name": "DescriptionStyleModel",
      "_view_count": null,
      "_view_module": "@jupyter-widgets/base",
      "_view_module_version": "1.2.0",
      "_view_name": "StyleView",
      "description_width": ""
     }
    },
    "3b415e77546548fb89f878f5735d6ea2": {
     "model_module": "@jupyter-widgets/controls",
     "model_module_version": "1.5.0",
     "model_name": "HBoxModel",
     "state": {
      "_dom_classes": [],
      "_model_module": "@jupyter-widgets/controls",
      "_model_module_version": "1.5.0",
      "_model_name": "HBoxModel",
      "_view_count": null,
      "_view_module": "@jupyter-widgets/controls",
      "_view_module_version": "1.5.0",
      "_view_name": "HBoxView",
      "box_style": "",
      "children": [
       "IPY_MODEL_035acf9a07be47ab8489f6cea2e2af94",
       "IPY_MODEL_de676417986e47858ff170ac5620ccb2",
       "IPY_MODEL_2b7e7ee488254530b4f7d123594cdca7"
      ],
      "layout": "IPY_MODEL_316f42870ce9432ba82111b2aed5a777"
     }
    },
    "44fdfa53f6c2426988997465d24752b1": {
     "model_module": "@jupyter-widgets/base",
     "model_module_version": "1.2.0",
     "model_name": "LayoutModel",
     "state": {
      "_model_module": "@jupyter-widgets/base",
      "_model_module_version": "1.2.0",
      "_model_name": "LayoutModel",
      "_view_count": null,
      "_view_module": "@jupyter-widgets/base",
      "_view_module_version": "1.2.0",
      "_view_name": "LayoutView",
      "align_content": null,
      "align_items": null,
      "align_self": null,
      "border": null,
      "bottom": null,
      "display": null,
      "flex": null,
      "flex_flow": null,
      "grid_area": null,
      "grid_auto_columns": null,
      "grid_auto_flow": null,
      "grid_auto_rows": null,
      "grid_column": null,
      "grid_gap": null,
      "grid_row": null,
      "grid_template_areas": null,
      "grid_template_columns": null,
      "grid_template_rows": null,
      "height": null,
      "justify_content": null,
      "justify_items": null,
      "left": null,
      "margin": null,
      "max_height": null,
      "max_width": null,
      "min_height": null,
      "min_width": null,
      "object_fit": null,
      "object_position": null,
      "order": null,
      "overflow": null,
      "overflow_x": null,
      "overflow_y": null,
      "padding": null,
      "right": null,
      "top": null,
      "visibility": null,
      "width": null
     }
    },
    "4561925d25b6487badfa256994a38f08": {
     "model_module": "@jupyter-widgets/controls",
     "model_module_version": "1.5.0",
     "model_name": "ProgressStyleModel",
     "state": {
      "_model_module": "@jupyter-widgets/controls",
      "_model_module_version": "1.5.0",
      "_model_name": "ProgressStyleModel",
      "_view_count": null,
      "_view_module": "@jupyter-widgets/base",
      "_view_module_version": "1.2.0",
      "_view_name": "StyleView",
      "bar_color": null,
      "description_width": ""
     }
    },
    "45c0ee800a394165b1fdb753f5592a10": {
     "model_module": "@jupyter-widgets/controls",
     "model_module_version": "1.5.0",
     "model_name": "FloatProgressModel",
     "state": {
      "_dom_classes": [],
      "_model_module": "@jupyter-widgets/controls",
      "_model_module_version": "1.5.0",
      "_model_name": "FloatProgressModel",
      "_view_count": null,
      "_view_module": "@jupyter-widgets/controls",
      "_view_module_version": "1.5.0",
      "_view_name": "ProgressView",
      "bar_style": "success",
      "description": "",
      "description_tooltip": null,
      "layout": "IPY_MODEL_48ab9e0a07ea45a6b250c4733619c681",
      "max": 9912422,
      "min": 0,
      "orientation": "horizontal",
      "style": "IPY_MODEL_50c16f26f62c4033a879fbcd7fb468aa",
      "value": 9912422
     }
    },
    "4763bc36b8134fee97103a2b6bc83d84": {
     "model_module": "@jupyter-widgets/controls",
     "model_module_version": "1.5.0",
     "model_name": "DescriptionStyleModel",
     "state": {
      "_model_module": "@jupyter-widgets/controls",
      "_model_module_version": "1.5.0",
      "_model_name": "DescriptionStyleModel",
      "_view_count": null,
      "_view_module": "@jupyter-widgets/base",
      "_view_module_version": "1.2.0",
      "_view_name": "StyleView",
      "description_width": ""
     }
    },
    "48ab9e0a07ea45a6b250c4733619c681": {
     "model_module": "@jupyter-widgets/base",
     "model_module_version": "1.2.0",
     "model_name": "LayoutModel",
     "state": {
      "_model_module": "@jupyter-widgets/base",
      "_model_module_version": "1.2.0",
      "_model_name": "LayoutModel",
      "_view_count": null,
      "_view_module": "@jupyter-widgets/base",
      "_view_module_version": "1.2.0",
      "_view_name": "LayoutView",
      "align_content": null,
      "align_items": null,
      "align_self": null,
      "border": null,
      "bottom": null,
      "display": null,
      "flex": null,
      "flex_flow": null,
      "grid_area": null,
      "grid_auto_columns": null,
      "grid_auto_flow": null,
      "grid_auto_rows": null,
      "grid_column": null,
      "grid_gap": null,
      "grid_row": null,
      "grid_template_areas": null,
      "grid_template_columns": null,
      "grid_template_rows": null,
      "height": null,
      "justify_content": null,
      "justify_items": null,
      "left": null,
      "margin": null,
      "max_height": null,
      "max_width": null,
      "min_height": null,
      "min_width": null,
      "object_fit": null,
      "object_position": null,
      "order": null,
      "overflow": null,
      "overflow_x": null,
      "overflow_y": null,
      "padding": null,
      "right": null,
      "top": null,
      "visibility": null,
      "width": null
     }
    },
    "48d157cd8121411ab282fd4e62031c19": {
     "model_module": "@jupyter-widgets/controls",
     "model_module_version": "1.5.0",
     "model_name": "DescriptionStyleModel",
     "state": {
      "_model_module": "@jupyter-widgets/controls",
      "_model_module_version": "1.5.0",
      "_model_name": "DescriptionStyleModel",
      "_view_count": null,
      "_view_module": "@jupyter-widgets/base",
      "_view_module_version": "1.2.0",
      "_view_name": "StyleView",
      "description_width": ""
     }
    },
    "50c16f26f62c4033a879fbcd7fb468aa": {
     "model_module": "@jupyter-widgets/controls",
     "model_module_version": "1.5.0",
     "model_name": "ProgressStyleModel",
     "state": {
      "_model_module": "@jupyter-widgets/controls",
      "_model_module_version": "1.5.0",
      "_model_name": "ProgressStyleModel",
      "_view_count": null,
      "_view_module": "@jupyter-widgets/base",
      "_view_module_version": "1.2.0",
      "_view_name": "StyleView",
      "bar_color": null,
      "description_width": ""
     }
    },
    "5adddd404ae546c7bba7c5d647cc9939": {
     "model_module": "@jupyter-widgets/base",
     "model_module_version": "1.2.0",
     "model_name": "LayoutModel",
     "state": {
      "_model_module": "@jupyter-widgets/base",
      "_model_module_version": "1.2.0",
      "_model_name": "LayoutModel",
      "_view_count": null,
      "_view_module": "@jupyter-widgets/base",
      "_view_module_version": "1.2.0",
      "_view_name": "LayoutView",
      "align_content": null,
      "align_items": null,
      "align_self": null,
      "border": null,
      "bottom": null,
      "display": null,
      "flex": null,
      "flex_flow": null,
      "grid_area": null,
      "grid_auto_columns": null,
      "grid_auto_flow": null,
      "grid_auto_rows": null,
      "grid_column": null,
      "grid_gap": null,
      "grid_row": null,
      "grid_template_areas": null,
      "grid_template_columns": null,
      "grid_template_rows": null,
      "height": null,
      "justify_content": null,
      "justify_items": null,
      "left": null,
      "margin": null,
      "max_height": null,
      "max_width": null,
      "min_height": null,
      "min_width": null,
      "object_fit": null,
      "object_position": null,
      "order": null,
      "overflow": null,
      "overflow_x": null,
      "overflow_y": null,
      "padding": null,
      "right": null,
      "top": null,
      "visibility": null,
      "width": null
     }
    },
    "5c0145c3c1dc4ec8a57d8f137511e5df": {
     "model_module": "@jupyter-widgets/controls",
     "model_module_version": "1.5.0",
     "model_name": "HTMLModel",
     "state": {
      "_dom_classes": [],
      "_model_module": "@jupyter-widgets/controls",
      "_model_module_version": "1.5.0",
      "_model_name": "HTMLModel",
      "_view_count": null,
      "_view_module": "@jupyter-widgets/controls",
      "_view_module_version": "1.5.0",
      "_view_name": "HTMLView",
      "description": "",
      "description_tooltip": null,
      "layout": "IPY_MODEL_1ba56e58032c48669342b032f3afbf84",
      "placeholder": "​",
      "style": "IPY_MODEL_48d157cd8121411ab282fd4e62031c19",
      "value": ""
     }
    },
    "5dac501826394adea35d48761a477310": {
     "model_module": "@jupyter-widgets/base",
     "model_module_version": "1.2.0",
     "model_name": "LayoutModel",
     "state": {
      "_model_module": "@jupyter-widgets/base",
      "_model_module_version": "1.2.0",
      "_model_name": "LayoutModel",
      "_view_count": null,
      "_view_module": "@jupyter-widgets/base",
      "_view_module_version": "1.2.0",
      "_view_name": "LayoutView",
      "align_content": null,
      "align_items": null,
      "align_self": null,
      "border": null,
      "bottom": null,
      "display": null,
      "flex": null,
      "flex_flow": null,
      "grid_area": null,
      "grid_auto_columns": null,
      "grid_auto_flow": null,
      "grid_auto_rows": null,
      "grid_column": null,
      "grid_gap": null,
      "grid_row": null,
      "grid_template_areas": null,
      "grid_template_columns": null,
      "grid_template_rows": null,
      "height": null,
      "justify_content": null,
      "justify_items": null,
      "left": null,
      "margin": null,
      "max_height": null,
      "max_width": null,
      "min_height": null,
      "min_width": null,
      "object_fit": null,
      "object_position": null,
      "order": null,
      "overflow": null,
      "overflow_x": null,
      "overflow_y": null,
      "padding": null,
      "right": null,
      "top": null,
      "visibility": null,
      "width": null
     }
    },
    "63e604888aa04a72bfcdff497e535352": {
     "model_module": "@jupyter-widgets/controls",
     "model_module_version": "1.5.0",
     "model_name": "ProgressStyleModel",
     "state": {
      "_model_module": "@jupyter-widgets/controls",
      "_model_module_version": "1.5.0",
      "_model_name": "ProgressStyleModel",
      "_view_count": null,
      "_view_module": "@jupyter-widgets/base",
      "_view_module_version": "1.2.0",
      "_view_name": "StyleView",
      "bar_color": null,
      "description_width": ""
     }
    },
    "67f491b43b00483f962a80bc8999cec0": {
     "model_module": "@jupyter-widgets/controls",
     "model_module_version": "1.5.0",
     "model_name": "DescriptionStyleModel",
     "state": {
      "_model_module": "@jupyter-widgets/controls",
      "_model_module_version": "1.5.0",
      "_model_name": "DescriptionStyleModel",
      "_view_count": null,
      "_view_module": "@jupyter-widgets/base",
      "_view_module_version": "1.2.0",
      "_view_name": "StyleView",
      "description_width": ""
     }
    },
    "6ba616fc90624bc69e755b9a005b7c51": {
     "model_module": "@jupyter-widgets/controls",
     "model_module_version": "1.5.0",
     "model_name": "FloatProgressModel",
     "state": {
      "_dom_classes": [],
      "_model_module": "@jupyter-widgets/controls",
      "_model_module_version": "1.5.0",
      "_model_name": "FloatProgressModel",
      "_view_count": null,
      "_view_module": "@jupyter-widgets/controls",
      "_view_module_version": "1.5.0",
      "_view_name": "ProgressView",
      "bar_style": "success",
      "description": "",
      "description_tooltip": null,
      "layout": "IPY_MODEL_2b4042fdf8924826aae7b2f4fb1ebcce",
      "max": 4542,
      "min": 0,
      "orientation": "horizontal",
      "style": "IPY_MODEL_4561925d25b6487badfa256994a38f08",
      "value": 4542
     }
    },
    "6efe65ec9b3a422890e13b42c2a14d56": {
     "model_module": "@jupyter-widgets/controls",
     "model_module_version": "1.5.0",
     "model_name": "HTMLModel",
     "state": {
      "_dom_classes": [],
      "_model_module": "@jupyter-widgets/controls",
      "_model_module_version": "1.5.0",
      "_model_name": "HTMLModel",
      "_view_count": null,
      "_view_module": "@jupyter-widgets/controls",
      "_view_module_version": "1.5.0",
      "_view_name": "HTMLView",
      "description": "",
      "description_tooltip": null,
      "layout": "IPY_MODEL_1385ab8301e44d22953255b59b606171",
      "placeholder": "​",
      "style": "IPY_MODEL_37df6e0e49824b1c8b335bfb22bc86b1",
      "value": ""
     }
    },
    "79323266718c49618be759822a468892": {
     "model_module": "@jupyter-widgets/controls",
     "model_module_version": "1.5.0",
     "model_name": "DescriptionStyleModel",
     "state": {
      "_model_module": "@jupyter-widgets/controls",
      "_model_module_version": "1.5.0",
      "_model_name": "DescriptionStyleModel",
      "_view_count": null,
      "_view_module": "@jupyter-widgets/base",
      "_view_module_version": "1.2.0",
      "_view_name": "StyleView",
      "description_width": ""
     }
    },
    "7cf85b14991742b894d04f4399950113": {
     "model_module": "@jupyter-widgets/base",
     "model_module_version": "1.2.0",
     "model_name": "LayoutModel",
     "state": {
      "_model_module": "@jupyter-widgets/base",
      "_model_module_version": "1.2.0",
      "_model_name": "LayoutModel",
      "_view_count": null,
      "_view_module": "@jupyter-widgets/base",
      "_view_module_version": "1.2.0",
      "_view_name": "LayoutView",
      "align_content": null,
      "align_items": null,
      "align_self": null,
      "border": null,
      "bottom": null,
      "display": null,
      "flex": null,
      "flex_flow": null,
      "grid_area": null,
      "grid_auto_columns": null,
      "grid_auto_flow": null,
      "grid_auto_rows": null,
      "grid_column": null,
      "grid_gap": null,
      "grid_row": null,
      "grid_template_areas": null,
      "grid_template_columns": null,
      "grid_template_rows": null,
      "height": null,
      "justify_content": null,
      "justify_items": null,
      "left": null,
      "margin": null,
      "max_height": null,
      "max_width": null,
      "min_height": null,
      "min_width": null,
      "object_fit": null,
      "object_position": null,
      "order": null,
      "overflow": null,
      "overflow_x": null,
      "overflow_y": null,
      "padding": null,
      "right": null,
      "top": null,
      "visibility": null,
      "width": null
     }
    },
    "8441bfc841064b8194667abd10ded947": {
     "model_module": "@jupyter-widgets/controls",
     "model_module_version": "1.5.0",
     "model_name": "HTMLModel",
     "state": {
      "_dom_classes": [],
      "_model_module": "@jupyter-widgets/controls",
      "_model_module_version": "1.5.0",
      "_model_name": "HTMLModel",
      "_view_count": null,
      "_view_module": "@jupyter-widgets/controls",
      "_view_module_version": "1.5.0",
      "_view_name": "HTMLView",
      "description": "",
      "description_tooltip": null,
      "layout": "IPY_MODEL_44fdfa53f6c2426988997465d24752b1",
      "placeholder": "​",
      "style": "IPY_MODEL_67f491b43b00483f962a80bc8999cec0",
      "value": " 9913344/? [00:00&lt;00:00, 6106816.57it/s]"
     }
    },
    "94742eeaa5a44eedbdd75456c5006044": {
     "model_module": "@jupyter-widgets/controls",
     "model_module_version": "1.5.0",
     "model_name": "HTMLModel",
     "state": {
      "_dom_classes": [],
      "_model_module": "@jupyter-widgets/controls",
      "_model_module_version": "1.5.0",
      "_model_name": "HTMLModel",
      "_view_count": null,
      "_view_module": "@jupyter-widgets/controls",
      "_view_module_version": "1.5.0",
      "_view_name": "HTMLView",
      "description": "",
      "description_tooltip": null,
      "layout": "IPY_MODEL_1c6bf92138584026b6edc200d88d34ed",
      "placeholder": "​",
      "style": "IPY_MODEL_79323266718c49618be759822a468892",
      "value": " 5120/? [00:00&lt;00:00, 106752.35it/s]"
     }
    },
    "af681724002745ba9649935d8bbb10c3": {
     "model_module": "@jupyter-widgets/controls",
     "model_module_version": "1.5.0",
     "model_name": "DescriptionStyleModel",
     "state": {
      "_model_module": "@jupyter-widgets/controls",
      "_model_module_version": "1.5.0",
      "_model_name": "DescriptionStyleModel",
      "_view_count": null,
      "_view_module": "@jupyter-widgets/base",
      "_view_module_version": "1.2.0",
      "_view_name": "StyleView",
      "description_width": ""
     }
    },
    "b7b2eb9941c4418eb4095f66efca76b7": {
     "model_module": "@jupyter-widgets/controls",
     "model_module_version": "1.5.0",
     "model_name": "HTMLModel",
     "state": {
      "_dom_classes": [],
      "_model_module": "@jupyter-widgets/controls",
      "_model_module_version": "1.5.0",
      "_model_name": "HTMLModel",
      "_view_count": null,
      "_view_module": "@jupyter-widgets/controls",
      "_view_module_version": "1.5.0",
      "_view_name": "HTMLView",
      "description": "",
      "description_tooltip": null,
      "layout": "IPY_MODEL_5adddd404ae546c7bba7c5d647cc9939",
      "placeholder": "​",
      "style": "IPY_MODEL_af681724002745ba9649935d8bbb10c3",
      "value": " 29696/? [00:00&lt;00:00, 651508.29it/s]"
     }
    },
    "c3faa8729c954b6eb81b57b2390d3a16": {
     "model_module": "@jupyter-widgets/controls",
     "model_module_version": "1.5.0",
     "model_name": "DescriptionStyleModel",
     "state": {
      "_model_module": "@jupyter-widgets/controls",
      "_model_module_version": "1.5.0",
      "_model_name": "DescriptionStyleModel",
      "_view_count": null,
      "_view_module": "@jupyter-widgets/base",
      "_view_module_version": "1.2.0",
      "_view_name": "StyleView",
      "description_width": ""
     }
    },
    "ce6bfcdd7c5e4b62aa017ad5d9612e7f": {
     "model_module": "@jupyter-widgets/controls",
     "model_module_version": "1.5.0",
     "model_name": "HTMLModel",
     "state": {
      "_dom_classes": [],
      "_model_module": "@jupyter-widgets/controls",
      "_model_module_version": "1.5.0",
      "_model_name": "HTMLModel",
      "_view_count": null,
      "_view_module": "@jupyter-widgets/controls",
      "_view_module_version": "1.5.0",
      "_view_name": "HTMLView",
      "description": "",
      "description_tooltip": null,
      "layout": "IPY_MODEL_5dac501826394adea35d48761a477310",
      "placeholder": "​",
      "style": "IPY_MODEL_c3faa8729c954b6eb81b57b2390d3a16",
      "value": ""
     }
    },
    "d2157f1501f245519a7b4ea50ea407dc": {
     "model_module": "@jupyter-widgets/base",
     "model_module_version": "1.2.0",
     "model_name": "LayoutModel",
     "state": {
      "_model_module": "@jupyter-widgets/base",
      "_model_module_version": "1.2.0",
      "_model_name": "LayoutModel",
      "_view_count": null,
      "_view_module": "@jupyter-widgets/base",
      "_view_module_version": "1.2.0",
      "_view_name": "LayoutView",
      "align_content": null,
      "align_items": null,
      "align_self": null,
      "border": null,
      "bottom": null,
      "display": null,
      "flex": null,
      "flex_flow": null,
      "grid_area": null,
      "grid_auto_columns": null,
      "grid_auto_flow": null,
      "grid_auto_rows": null,
      "grid_column": null,
      "grid_gap": null,
      "grid_row": null,
      "grid_template_areas": null,
      "grid_template_columns": null,
      "grid_template_rows": null,
      "height": null,
      "justify_content": null,
      "justify_items": null,
      "left": null,
      "margin": null,
      "max_height": null,
      "max_width": null,
      "min_height": null,
      "min_width": null,
      "object_fit": null,
      "object_position": null,
      "order": null,
      "overflow": null,
      "overflow_x": null,
      "overflow_y": null,
      "padding": null,
      "right": null,
      "top": null,
      "visibility": null,
      "width": null
     }
    },
    "d2cff93b91c7409c84b53953b62deb08": {
     "model_module": "@jupyter-widgets/controls",
     "model_module_version": "1.5.0",
     "model_name": "HBoxModel",
     "state": {
      "_dom_classes": [],
      "_model_module": "@jupyter-widgets/controls",
      "_model_module_version": "1.5.0",
      "_model_name": "HBoxModel",
      "_view_count": null,
      "_view_module": "@jupyter-widgets/controls",
      "_view_module_version": "1.5.0",
      "_view_name": "HBoxView",
      "box_style": "",
      "children": [
       "IPY_MODEL_ce6bfcdd7c5e4b62aa017ad5d9612e7f",
       "IPY_MODEL_45c0ee800a394165b1fdb753f5592a10",
       "IPY_MODEL_8441bfc841064b8194667abd10ded947"
      ],
      "layout": "IPY_MODEL_d781a4ccde4845578387a940fe0cfd28"
     }
    },
    "d542887aae7b49279a4d37692a556697": {
     "model_module": "@jupyter-widgets/base",
     "model_module_version": "1.2.0",
     "model_name": "LayoutModel",
     "state": {
      "_model_module": "@jupyter-widgets/base",
      "_model_module_version": "1.2.0",
      "_model_name": "LayoutModel",
      "_view_count": null,
      "_view_module": "@jupyter-widgets/base",
      "_view_module_version": "1.2.0",
      "_view_name": "LayoutView",
      "align_content": null,
      "align_items": null,
      "align_self": null,
      "border": null,
      "bottom": null,
      "display": null,
      "flex": null,
      "flex_flow": null,
      "grid_area": null,
      "grid_auto_columns": null,
      "grid_auto_flow": null,
      "grid_auto_rows": null,
      "grid_column": null,
      "grid_gap": null,
      "grid_row": null,
      "grid_template_areas": null,
      "grid_template_columns": null,
      "grid_template_rows": null,
      "height": null,
      "justify_content": null,
      "justify_items": null,
      "left": null,
      "margin": null,
      "max_height": null,
      "max_width": null,
      "min_height": null,
      "min_width": null,
      "object_fit": null,
      "object_position": null,
      "order": null,
      "overflow": null,
      "overflow_x": null,
      "overflow_y": null,
      "padding": null,
      "right": null,
      "top": null,
      "visibility": null,
      "width": null
     }
    },
    "d781a4ccde4845578387a940fe0cfd28": {
     "model_module": "@jupyter-widgets/base",
     "model_module_version": "1.2.0",
     "model_name": "LayoutModel",
     "state": {
      "_model_module": "@jupyter-widgets/base",
      "_model_module_version": "1.2.0",
      "_model_name": "LayoutModel",
      "_view_count": null,
      "_view_module": "@jupyter-widgets/base",
      "_view_module_version": "1.2.0",
      "_view_name": "LayoutView",
      "align_content": null,
      "align_items": null,
      "align_self": null,
      "border": null,
      "bottom": null,
      "display": null,
      "flex": null,
      "flex_flow": null,
      "grid_area": null,
      "grid_auto_columns": null,
      "grid_auto_flow": null,
      "grid_auto_rows": null,
      "grid_column": null,
      "grid_gap": null,
      "grid_row": null,
      "grid_template_areas": null,
      "grid_template_columns": null,
      "grid_template_rows": null,
      "height": null,
      "justify_content": null,
      "justify_items": null,
      "left": null,
      "margin": null,
      "max_height": null,
      "max_width": null,
      "min_height": null,
      "min_width": null,
      "object_fit": null,
      "object_position": null,
      "order": null,
      "overflow": null,
      "overflow_x": null,
      "overflow_y": null,
      "padding": null,
      "right": null,
      "top": null,
      "visibility": null,
      "width": null
     }
    },
    "dcf8ac7ad0a7407794b3b18a66529ae9": {
     "model_module": "@jupyter-widgets/base",
     "model_module_version": "1.2.0",
     "model_name": "LayoutModel",
     "state": {
      "_model_module": "@jupyter-widgets/base",
      "_model_module_version": "1.2.0",
      "_model_name": "LayoutModel",
      "_view_count": null,
      "_view_module": "@jupyter-widgets/base",
      "_view_module_version": "1.2.0",
      "_view_name": "LayoutView",
      "align_content": null,
      "align_items": null,
      "align_self": null,
      "border": null,
      "bottom": null,
      "display": null,
      "flex": null,
      "flex_flow": null,
      "grid_area": null,
      "grid_auto_columns": null,
      "grid_auto_flow": null,
      "grid_auto_rows": null,
      "grid_column": null,
      "grid_gap": null,
      "grid_row": null,
      "grid_template_areas": null,
      "grid_template_columns": null,
      "grid_template_rows": null,
      "height": null,
      "justify_content": null,
      "justify_items": null,
      "left": null,
      "margin": null,
      "max_height": null,
      "max_width": null,
      "min_height": null,
      "min_width": null,
      "object_fit": null,
      "object_position": null,
      "order": null,
      "overflow": null,
      "overflow_x": null,
      "overflow_y": null,
      "padding": null,
      "right": null,
      "top": null,
      "visibility": null,
      "width": null
     }
    },
    "de676417986e47858ff170ac5620ccb2": {
     "model_module": "@jupyter-widgets/controls",
     "model_module_version": "1.5.0",
     "model_name": "FloatProgressModel",
     "state": {
      "_dom_classes": [],
      "_model_module": "@jupyter-widgets/controls",
      "_model_module_version": "1.5.0",
      "_model_name": "FloatProgressModel",
      "_view_count": null,
      "_view_module": "@jupyter-widgets/controls",
      "_view_module_version": "1.5.0",
      "_view_name": "ProgressView",
      "bar_style": "success",
      "description": "",
      "description_tooltip": null,
      "layout": "IPY_MODEL_f41b1f4ff4854d429961742134314bb1",
      "max": 1648877,
      "min": 0,
      "orientation": "horizontal",
      "style": "IPY_MODEL_63e604888aa04a72bfcdff497e535352",
      "value": 1648877
     }
    },
    "ed826fccc9d9453191b928308462223b": {
     "model_module": "@jupyter-widgets/controls",
     "model_module_version": "1.5.0",
     "model_name": "ProgressStyleModel",
     "state": {
      "_model_module": "@jupyter-widgets/controls",
      "_model_module_version": "1.5.0",
      "_model_name": "ProgressStyleModel",
      "_view_count": null,
      "_view_module": "@jupyter-widgets/base",
      "_view_module_version": "1.2.0",
      "_view_name": "StyleView",
      "bar_color": null,
      "description_width": ""
     }
    },
    "efcdddcef4744681955592df2f0b2938": {
     "model_module": "@jupyter-widgets/controls",
     "model_module_version": "1.5.0",
     "model_name": "HBoxModel",
     "state": {
      "_dom_classes": [],
      "_model_module": "@jupyter-widgets/controls",
      "_model_module_version": "1.5.0",
      "_model_name": "HBoxModel",
      "_view_count": null,
      "_view_module": "@jupyter-widgets/controls",
      "_view_module_version": "1.5.0",
      "_view_name": "HBoxView",
      "box_style": "",
      "children": [
       "IPY_MODEL_6efe65ec9b3a422890e13b42c2a14d56",
       "IPY_MODEL_6ba616fc90624bc69e755b9a005b7c51",
       "IPY_MODEL_94742eeaa5a44eedbdd75456c5006044"
      ],
      "layout": "IPY_MODEL_dcf8ac7ad0a7407794b3b18a66529ae9"
     }
    },
    "f41b1f4ff4854d429961742134314bb1": {
     "model_module": "@jupyter-widgets/base",
     "model_module_version": "1.2.0",
     "model_name": "LayoutModel",
     "state": {
      "_model_module": "@jupyter-widgets/base",
      "_model_module_version": "1.2.0",
      "_model_name": "LayoutModel",
      "_view_count": null,
      "_view_module": "@jupyter-widgets/base",
      "_view_module_version": "1.2.0",
      "_view_name": "LayoutView",
      "align_content": null,
      "align_items": null,
      "align_self": null,
      "border": null,
      "bottom": null,
      "display": null,
      "flex": null,
      "flex_flow": null,
      "grid_area": null,
      "grid_auto_columns": null,
      "grid_auto_flow": null,
      "grid_auto_rows": null,
      "grid_column": null,
      "grid_gap": null,
      "grid_row": null,
      "grid_template_areas": null,
      "grid_template_columns": null,
      "grid_template_rows": null,
      "height": null,
      "justify_content": null,
      "justify_items": null,
      "left": null,
      "margin": null,
      "max_height": null,
      "max_width": null,
      "min_height": null,
      "min_width": null,
      "object_fit": null,
      "object_position": null,
      "order": null,
      "overflow": null,
      "overflow_x": null,
      "overflow_y": null,
      "padding": null,
      "right": null,
      "top": null,
      "visibility": null,
      "width": null
     }
    },
    "f6fd2a88617548e2a36182c9bdec8e19": {
     "model_module": "@jupyter-widgets/controls",
     "model_module_version": "1.5.0",
     "model_name": "HBoxModel",
     "state": {
      "_dom_classes": [],
      "_model_module": "@jupyter-widgets/controls",
      "_model_module_version": "1.5.0",
      "_model_name": "HBoxModel",
      "_view_count": null,
      "_view_module": "@jupyter-widgets/controls",
      "_view_module_version": "1.5.0",
      "_view_name": "HBoxView",
      "box_style": "",
      "children": [
       "IPY_MODEL_5c0145c3c1dc4ec8a57d8f137511e5df",
       "IPY_MODEL_333d8997c3424cc0a18ddab784b5d966",
       "IPY_MODEL_b7b2eb9941c4418eb4095f66efca76b7"
      ],
      "layout": "IPY_MODEL_d2157f1501f245519a7b4ea50ea407dc"
     }
    }
   }
  }
 },
 "nbformat": 4,
 "nbformat_minor": 0
}
